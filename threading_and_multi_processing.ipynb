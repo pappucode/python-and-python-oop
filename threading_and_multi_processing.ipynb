{
 "cells": [
  {
   "cell_type": "code",
   "execution_count": 3,
   "id": "c9a05114-7a9d-4c75-98c3-af97d756e3aa",
   "metadata": {},
   "outputs": [],
   "source": [
    "import threading\n",
    "import time"
   ]
  },
  {
   "cell_type": "code",
   "execution_count": 20,
   "id": "ac233b52-4c63-4e69-a895-4ddc50a055f5",
   "metadata": {},
   "outputs": [
    {
     "name": "stdout",
     "output_type": "stream",
     "text": [
      "Sleeping for 4 seconds\n",
      "Sleeping for 2 seconds\n",
      "Sleeping for 1 seconds\n",
      "4.019771199993556\n"
     ]
    }
   ],
   "source": [
    "def func(seconds):\n",
    "    \n",
    "    print(f\"Sleeping for {seconds} seconds\")\n",
    "    time.sleep(seconds)\n",
    "\n",
    "# time1 = time.perf_counter()\n",
    "\n",
    "# normal code\n",
    "\n",
    "# func(4)\n",
    "# func(2)\n",
    "# func(1)\n",
    "\n",
    "# time2 = time.perf_counter()\n",
    "# print(time2-time1)\n",
    "\n",
    "time1 = time.perf_counter()\n",
    "#Same code using THreads\n",
    "t1 = threading.Thread(target=func, args=[4])\n",
    "t2 = threading.Thread(target=func, args=[2])\n",
    "t3 = threading.Thread(target=func, args=[1])\n",
    "\n",
    "t1.start()\n",
    "t2.start()\n",
    "t3.start()\n",
    "\n",
    "t1.join()\n",
    "t2.join()\n",
    "t3.join()\n",
    "\n",
    "time2 = time.perf_counter()\n",
    "print(time2-time1)"
   ]
  },
  {
   "cell_type": "code",
   "execution_count": null,
   "id": "2368ccca-bf92-4f7f-85ae-a4f0e196cb4c",
   "metadata": {},
   "outputs": [],
   "source": []
  },
  {
   "cell_type": "markdown",
   "id": "78ce3ef3-da72-4f95-a2dc-5a95f2cfdf32",
   "metadata": {},
   "source": [
    "# Another Program"
   ]
  },
  {
   "cell_type": "code",
   "execution_count": 33,
   "id": "af3ae5cb-3d5f-4933-9915-80617577a619",
   "metadata": {},
   "outputs": [],
   "source": [
    "def calc_square(numbers):\n",
    "    print(\"Calculate square of numbers\")\n",
    "    for n in numbers:\n",
    "        time.sleep(0.2)\n",
    "        print(\"Square:\", n*n)\n",
    "\n",
    "\n",
    "def calc_cube(numbers):\n",
    "    print(\"Calculate cube of numbers\")\n",
    "    for n in numbers:\n",
    "        time.sleep(0.2)\n",
    "        print(\"Cube:\", n*n*n)"
   ]
  },
  {
   "cell_type": "code",
   "execution_count": 36,
   "id": "850f6746-a92e-45a1-99d3-057c08430894",
   "metadata": {},
   "outputs": [
    {
     "name": "stdout",
     "output_type": "stream",
     "text": [
      "Calculate square of numbers\n",
      "Calculate cube of numbers\n",
      "Cube: 8\n",
      "Square: 4\n",
      "Square:Cube: 27\n",
      " 9\n",
      "Square:Cube: 512\n",
      " 64\n",
      "Cube: 729\n",
      "Square: 81\n",
      "Done in:  0.8374848365783691\n",
      "Hah ... I am done with all my work now!\n"
     ]
    }
   ],
   "source": [
    "arr = [2, 3, 8, 9]\n",
    "t = time.time()\n",
    "\n",
    "# Normal code\n",
    "# calc_square(arr)\n",
    "# calc_cube(arr)\n",
    "\n",
    "# Using multi-threading\n",
    "t1 = threading.Thread(target=calc_square, args = (arr,))\n",
    "t2 = threading.Thread(target=calc_cube, args = (arr,))\n",
    "\n",
    "t1.start()\n",
    "t2.start()\n",
    "\n",
    "t1.join()\n",
    "t2.join()\n",
    "\n",
    "print(\"Done in: \", time.time()-t)\n",
    "print(\"Hah ... I am done with all my work now!\")"
   ]
  },
  {
   "cell_type": "code",
   "execution_count": null,
   "id": "bd7fff9f-5c50-4259-9946-f1db149c2397",
   "metadata": {},
   "outputs": [],
   "source": []
  },
  {
   "cell_type": "code",
   "execution_count": null,
   "id": "51ae1c9d-7a5e-4c2d-9417-921888002eb1",
   "metadata": {},
   "outputs": [],
   "source": []
  },
  {
   "cell_type": "code",
   "execution_count": null,
   "id": "ee1363de-9181-4595-80ec-038a0ef6ab54",
   "metadata": {},
   "outputs": [],
   "source": []
  },
  {
   "cell_type": "code",
   "execution_count": null,
   "id": "7ad6626d-4e80-4d5f-b995-d52376f442f8",
   "metadata": {},
   "outputs": [],
   "source": []
  },
  {
   "cell_type": "code",
   "execution_count": null,
   "id": "9265949e-a640-47e5-b24a-75a9c0d381af",
   "metadata": {},
   "outputs": [],
   "source": []
  },
  {
   "cell_type": "code",
   "execution_count": null,
   "id": "871d2b2f-b773-4999-a1f0-dd861d98ef70",
   "metadata": {},
   "outputs": [],
   "source": []
  },
  {
   "cell_type": "code",
   "execution_count": null,
   "id": "4dd3e102-c3d4-4166-ae09-1c1e01d1eede",
   "metadata": {},
   "outputs": [],
   "source": []
  },
  {
   "cell_type": "code",
   "execution_count": null,
   "id": "22a1c16d-da7c-4f84-be3a-b08d37259a1c",
   "metadata": {},
   "outputs": [],
   "source": []
  },
  {
   "cell_type": "code",
   "execution_count": null,
   "id": "398c87ce-0a0b-4a03-a353-199053618049",
   "metadata": {},
   "outputs": [],
   "source": []
  },
  {
   "cell_type": "code",
   "execution_count": null,
   "id": "a2ae0dda-2bb0-4e2b-9866-4b3f5b8e5380",
   "metadata": {},
   "outputs": [],
   "source": []
  },
  {
   "cell_type": "code",
   "execution_count": null,
   "id": "d8062b96-c920-48be-be9b-5b68ab84833c",
   "metadata": {},
   "outputs": [],
   "source": []
  },
  {
   "cell_type": "code",
   "execution_count": null,
   "id": "a8897dcf-0cca-4f9f-8d8b-c085305e0961",
   "metadata": {},
   "outputs": [],
   "source": []
  }
 ],
 "metadata": {
  "kernelspec": {
   "display_name": "Python 3 (ipykernel)",
   "language": "python",
   "name": "python3"
  },
  "language_info": {
   "codemirror_mode": {
    "name": "ipython",
    "version": 3
   },
   "file_extension": ".py",
   "mimetype": "text/x-python",
   "name": "python",
   "nbconvert_exporter": "python",
   "pygments_lexer": "ipython3",
   "version": "3.8.20"
  }
 },
 "nbformat": 4,
 "nbformat_minor": 5
}
