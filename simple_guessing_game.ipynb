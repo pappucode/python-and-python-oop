{
 "cells": [
  {
   "cell_type": "code",
   "execution_count": 2,
   "id": "bb54a6d1-45db-4e11-9f58-e0201763e99a",
   "metadata": {},
   "outputs": [],
   "source": [
    "import random"
   ]
  },
  {
   "cell_type": "code",
   "execution_count": 5,
   "id": "cc6b4d01-8dfa-4d48-998a-cade15aa9302",
   "metadata": {},
   "outputs": [
    {
     "name": "stdin",
     "output_type": "stream",
     "text": [
      "Guess the number 50\n"
     ]
    },
    {
     "name": "stdout",
     "output_type": "stream",
     "text": [
      "Higher the number\n"
     ]
    },
    {
     "name": "stdin",
     "output_type": "stream",
     "text": [
      "Guess the number 70\n"
     ]
    },
    {
     "name": "stdout",
     "output_type": "stream",
     "text": [
      "Higher the number\n"
     ]
    },
    {
     "name": "stdin",
     "output_type": "stream",
     "text": [
      "Guess the number 90\n"
     ]
    },
    {
     "name": "stdout",
     "output_type": "stream",
     "text": [
      "Lower the number\n"
     ]
    },
    {
     "name": "stdin",
     "output_type": "stream",
     "text": [
      "Guess the number 80\n"
     ]
    },
    {
     "name": "stdout",
     "output_type": "stream",
     "text": [
      "Lower the number\n"
     ]
    },
    {
     "name": "stdin",
     "output_type": "stream",
     "text": [
      "Guess the number 75\n"
     ]
    },
    {
     "name": "stdout",
     "output_type": "stream",
     "text": [
      "Lower the number\n"
     ]
    },
    {
     "name": "stdin",
     "output_type": "stream",
     "text": [
      "Guess the number 72\n"
     ]
    },
    {
     "name": "stdout",
     "output_type": "stream",
     "text": [
      "Correct guess !\n",
      "You have take 6 attemps to guess the number\n"
     ]
    }
   ],
   "source": [
    "jackpot = random.randint(1, 100)\n",
    "guess = int(input(\"Guess the number\"))\n",
    "counter = 1\n",
    "\n",
    "while guess != jackpot:\n",
    "    if guess < jackpot:\n",
    "        print(\"Higher the number\")\n",
    "    else:\n",
    "        print(\"Lower the number\")\n",
    "    guess = int(input(\"Guess the number\"))\n",
    "    counter += 1\n",
    "print(\"Correct guess !\")\n",
    "print(\"You have take\", counter, \"attemps to guess the number\")"
   ]
  },
  {
   "cell_type": "code",
   "execution_count": 7,
   "id": "17dbf7e4-f57b-4e6a-aba9-c9a5967cd6e4",
   "metadata": {},
   "outputs": [
    {
     "data": {
      "text/plain": [
       "31"
      ]
     },
     "execution_count": 7,
     "metadata": {},
     "output_type": "execute_result"
    }
   ],
   "source": [
    "jackpot"
   ]
  },
  {
   "cell_type": "code",
   "execution_count": 9,
   "id": "1aa6feb7-3175-496e-9469-89588da67d14",
   "metadata": {},
   "outputs": [
    {
     "name": "stdin",
     "output_type": "stream",
     "text": [
      "Provide a number 16\n"
     ]
    },
    {
     "name": "stdout",
     "output_type": "stream",
     "text": [
      "* \n",
      "* * \n",
      "* * * \n",
      "* * * * \n",
      "* * * * * \n",
      "* * * * * * \n",
      "* * * * * * * \n",
      "* * * * * * * * \n",
      "* * * * * * * * * \n",
      "* * * * * * * * * * \n",
      "* * * * * * * * * * * \n",
      "* * * * * * * * * * * * \n",
      "* * * * * * * * * * * * * \n",
      "* * * * * * * * * * * * * * \n",
      "* * * * * * * * * * * * * * * \n",
      "* * * * * * * * * * * * * * * * \n"
     ]
    }
   ],
   "source": [
    "rows = int(input(\"Provide a number\"))\n",
    "\n",
    "for i in range(1, rows+1):\n",
    "    for j in range(0, i):\n",
    "        print(\"*\", end=\" \")\n",
    "    print(\"\")"
   ]
  },
  {
   "cell_type": "code",
   "execution_count": 10,
   "id": "7b7b874a-5478-443f-84f9-9371a47e7081",
   "metadata": {},
   "outputs": [],
   "source": [
    "L = [[[1,2],[3,4]], [[5,6],[7,8]]]"
   ]
  },
  {
   "cell_type": "code",
   "execution_count": 18,
   "id": "35ef7763-83de-482f-b02f-f6855c44eb52",
   "metadata": {},
   "outputs": [
    {
     "data": {
      "text/plain": [
       "7"
      ]
     },
     "execution_count": 18,
     "metadata": {},
     "output_type": "execute_result"
    }
   ],
   "source": [
    "L[1][1][0]"
   ]
  },
  {
   "cell_type": "code",
   "execution_count": 43,
   "id": "2e8a4f0d-c0e8-4eb9-a74f-44a27fc673b9",
   "metadata": {},
   "outputs": [
    {
     "name": "stdout",
     "output_type": "stream",
     "text": [
      "['How', 'Are', 'You?']\n",
      "How Are You?\n"
     ]
    }
   ],
   "source": [
    "sample = \"how are you?\"\n",
    "l1 = []\n",
    "for i in sample.split():\n",
    "    l1.append(i.capitalize())\n",
    "print(l1)\n",
    "print(\" \".join(l1))"
   ]
  },
  {
   "cell_type": "code",
   "execution_count": 48,
   "id": "b3e6f7b2-c077-4193-9746-583dc0184dca",
   "metadata": {},
   "outputs": [
    {
     "data": {
      "text/plain": [
       "['abc', 'gmail.com']"
      ]
     },
     "execution_count": 48,
     "metadata": {},
     "output_type": "execute_result"
    }
   ],
   "source": [
    "sam = \"abc@gmail.com\"\n",
    "sam.split('@')[0]"
   ]
  }
 ],
 "metadata": {
  "kernelspec": {
   "display_name": "Python 3 (ipykernel)",
   "language": "python",
   "name": "python3"
  },
  "language_info": {
   "codemirror_mode": {
    "name": "ipython",
    "version": 3
   },
   "file_extension": ".py",
   "mimetype": "text/x-python",
   "name": "python",
   "nbconvert_exporter": "python",
   "pygments_lexer": "ipython3",
   "version": "3.8.20"
  }
 },
 "nbformat": 4,
 "nbformat_minor": 5
}
